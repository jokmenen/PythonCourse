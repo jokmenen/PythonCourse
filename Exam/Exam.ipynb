{
 "cells": [
  {
   "cell_type": "markdown",
   "metadata": {},
   "source": [
    "# Python Exam 2021\n",
    "Dear colleagues, welcome to the Python Exam of 2021.\n",
    "During the course, we learned a lot about Python. Time to put that knowledge to the test! The goal of this Exam is for you to find out what parts of Python you are already awesome at, and what parts still need some practice. How you make this exam is up to you: You are allowed to collaborate or to use google, but I do recommend trying to make it without external help first. Upon completion of the exam, you can send the Jupyter Notebook file to rpieternella@anwb.nl. In order to download the jupyter notebook file, go to File in the menu bar and click Download. Please put your name in the filename so I can identify it. "
   ]
  },
  {
   "cell_type": "markdown",
   "metadata": {},
   "source": [
    "## Question 1\n",
    "In the codeblock below, your colleague wrote some code to automatically transform names into email addresses. After speaking with your stakeholder, you decided that the functionality of this code needs to be changed up a bit. However, the colleague who wrote this code is unfortunately on holiday, so it's all up to you. Similarly unfortunate is that your colleague forgot to add any comments, and was not really clear with his variable names. Thus, your task right now is to decypher the code below and make the changes that the stakeholder wants. And, in order to prevent this from happening again: do your colleague a favour by adding comments and understandable variable names to the code.\n",
    "\n",
    "a. Decypher the code to understand what it does. Then, change the function so all resulting email addresses have 'the_real_' in front of them like so:\n",
    "    'the_real_ramon_pieternella@anwb.nl'\n",
    "    \n",
    "b.  Add comments and replace the variable names with names that make the code more readable for other colleagues who see it for the first time.\n",
    "\n",
    "BONUS:\n",
    "c.  IT just informed you that email addresses cannot have underscores in them. Add a function that automatically removes underscores from the email addresses. Hint: you can for-loop over a string ;)"
   ]
  },
  {
   "cell_type": "code",
   "execution_count": 36,
   "metadata": {},
   "outputs": [
    {
     "name": "stdout",
     "output_type": "stream",
     "text": [
      "['jan_smit@anwb.nl', 'frans_duits@anwb.nl', 'sinter_klaas@anwb.nl', 'ramon_pieternella@anwb.nl']\n"
     ]
    }
   ],
   "source": [
    "lop = ['jan_smit','frans_duits','sinter_klaas','ramon_pieternella']\n",
    "\n",
    "def func(param):\n",
    "    return param + '@anwb.nl'\n",
    "\n",
    "new_lop = []\n",
    "\n",
    "for item in lop:\n",
    "    new_item = func(item)\n",
    "    new_lop += [new_item]\n",
    "    \n",
    "print(new_lop)"
   ]
  },
  {
   "cell_type": "markdown",
   "metadata": {},
   "source": [
    "## Question 2\n",
    "The code block beneath gives an error when you try to run it. Can you figure out why?\n",
    "\n",
    "a. Add a comment explaining why the code gives an error.\n",
    "\n",
    "b. Fix the code so that the output shows the right answer\n",
    "\n",
    "Bonus:\n",
    "c. There is a way to fix this by only editing the line that starts with balans. Do you know how? (kudo's if you already solved the problem in this way)"
   ]
  },
  {
   "cell_type": "code",
   "execution_count": 37,
   "metadata": {},
   "outputs": [
    {
     "ename": "TypeError",
     "evalue": "can only concatenate str (not \"int\") to str",
     "output_type": "error",
     "traceback": [
      "\u001b[1;31m---------------------------------------------------------------------------\u001b[0m",
      "\u001b[1;31mTypeError\u001b[0m                                 Traceback (most recent call last)",
      "\u001b[1;32m<ipython-input-37-6b452569b1e2>\u001b[0m in \u001b[0;36m<module>\u001b[1;34m\u001b[0m\n\u001b[0;32m      2\u001b[0m \u001b[0muitgaven\u001b[0m  \u001b[1;33m=\u001b[0m \u001b[1;36m56584\u001b[0m\u001b[1;33m\u001b[0m\u001b[1;33m\u001b[0m\u001b[0m\n\u001b[0;32m      3\u001b[0m \u001b[1;33m\u001b[0m\u001b[0m\n\u001b[1;32m----> 4\u001b[1;33m \u001b[0mbalans\u001b[0m \u001b[1;33m=\u001b[0m \u001b[0minkomsten\u001b[0m \u001b[1;33m+\u001b[0m \u001b[0muitgaven\u001b[0m\u001b[1;33m\u001b[0m\u001b[1;33m\u001b[0m\u001b[0m\n\u001b[0m\u001b[0;32m      5\u001b[0m \u001b[1;33m\u001b[0m\u001b[0m\n\u001b[0;32m      6\u001b[0m \u001b[0mprint\u001b[0m\u001b[1;33m(\u001b[0m\u001b[0mbalans\u001b[0m\u001b[1;33m)\u001b[0m\u001b[1;33m\u001b[0m\u001b[1;33m\u001b[0m\u001b[0m\n",
      "\u001b[1;31mTypeError\u001b[0m: can only concatenate str (not \"int\") to str"
     ]
    }
   ],
   "source": [
    "\n",
    "inkomsten = '1337'\n",
    "uitgaven  = 56584\n",
    "\n",
    "balans = inkomsten + uitgaven \n",
    "\n",
    "print(balans) "
   ]
  },
  {
   "cell_type": "markdown",
   "metadata": {},
   "source": [
    "## Question 3\n",
    "Write a function that takes 2 different numbers as input. Return the sum of the two numbers, unless the sum is between 17 and 33. If the sum is between 17 and 33 return 70 instead. Save the result in a variable. Then print the result in a sentence: (e.g. \"The sum of the two numbers is 62\")"
   ]
  },
  {
   "cell_type": "code",
   "execution_count": null,
   "metadata": {},
   "outputs": [],
   "source": [
    "a = 17\n",
    "b = 33\n",
    "\n",
    "### Your function goes here:\n",
    "\n"
   ]
  },
  {
   "cell_type": "markdown",
   "metadata": {},
   "source": [
    "## Question 4\n",
    "Write a function that prints all the individual letters of any string that is given as input. e.g. for the string \"Ramon\" it would print \"R\", \"a\", \"m\", \"o\" and \"n\". \n",
    "\n",
    "Hint 1: Remember that you can use a loop to repeat a certain action multiple times.\n",
    "\n",
    "Hint 2: Remember that you can use indexing ('Ramon'[0] --> 'R') to access individual letters of a string). "
   ]
  },
  {
   "cell_type": "code",
   "execution_count": null,
   "metadata": {},
   "outputs": [],
   "source": [
    "string = \"Ramon\"\n",
    "\n",
    "# Your function goes here:\n"
   ]
  },
  {
   "cell_type": "markdown",
   "metadata": {},
   "source": [
    "## Question 5\n",
    "You are building a fitness app which records data from the users in order to tell them if they are healthy or not.\n",
    "\n",
    "a. You want to show users their Body Mass Index (BMI) in order to tell them how they are doing. BMI is a measurement that indicates whether a person can be classified as over- or underweight. It is calculated by dividing someones weight in kg by their squared height ( kg / m^2 ). Make a function that gets weight and height as input, and returns a person's BMI. Then save that BMI in a variable and print it in a sentence to the user. With a weight of 80 kg and a height of 1.8 m this should return \"Your BMI is 24.69...\" (rounding is not required).\n",
    "\n",
    "b. A BMI between 18.5 and 25 is considered healthy. A lower BMI is considered underweight, and a higher BMI is considered overweight. A person with a BMI of over 30 is considered obese. After calculating the user's BMI, print a message motivating the user to use the app according to their BMI category (e.g. for someone with a healthy BMI: \"You're doing great. Keep using the app to sustain your healthy BMI!\".)"
   ]
  },
  {
   "cell_type": "code",
   "execution_count": null,
   "metadata": {},
   "outputs": [],
   "source": [
    "weight = 80 # in kg\n",
    "height = 1.8 # in meters\n",
    "\n",
    "# Your function goes here:\n",
    "\n"
   ]
  },
  {
   "cell_type": "markdown",
   "metadata": {},
   "source": [
    "## Question 6\n",
    "\n",
    "\\[This is a Google question. You are encouraged to search google to find the answer to this question.\\]\n",
    "\n",
    "For a program you're writing, you want to show today's date on the screen. \n",
    "a. In lesson 3 we learned how to use modules to extend the functionality of Python. Can you find which module to use in order to print the current date on the screen? (Note: this module is in the Python Standard Library, so you do not have to download anything in order to use it).\n",
    "b. Write code to make python print \"Today's date is: \\[current date\\]\" using the module named in the previous question. Add a comment to every line to explain what it is for."
   ]
  },
  {
   "cell_type": "code",
   "execution_count": null,
   "metadata": {},
   "outputs": [],
   "source": [
    "# Your code goes here:\n",
    "\n"
   ]
  },
  {
   "cell_type": "markdown",
   "metadata": {},
   "source": [
    "## Question 7\n",
    "\n",
    "Each month you are sent a dataset by a colleague who wants you to make a few changes and then turn the data into a graph. You used to do this in Excel, but since you have to do it every month anyways, you decide to automate the task in Python to save you a little bit of time.\n",
    "\n",
    "a. The dataset is called exam.csv. Load it using pandas. Be aware that the file uses a ; to seperate the data, so you have to tell that to pandas in order for it to load the data correctly. \n",
    "\n",
    "b. If you take a look at the data, you see that the first row is test data and should be removed. Can you make that happen? \n",
    "\n",
    "c. Your colleague wants to know how often the different Travel Destinations have been booked. The easiest way to show this would be in a graph. Can you make a Bar Chart graph that shows the amount of sales on the y axis, and the travel locations on the x axis? You can use either matplotlib op pandas for this.\n",
    "\n",
    "Bonus d. The names are a bit long, which makes it difficult to read the graph. Can you rotate the tick labels (the text underneath each bar) to make them more readable? (Hint: use google for this one again)"
   ]
  },
  {
   "cell_type": "code",
   "execution_count": null,
   "metadata": {},
   "outputs": [],
   "source": [
    "# Your code goes here:\n",
    "\n"
   ]
  },
  {
   "cell_type": "markdown",
   "metadata": {},
   "source": [
    "### Congratulations! You have reached the end of the exam!\n",
    "You can send in the results to rpieternella@anwb.nl. If you had any questions concerning the exam I would love to hear from you. Also let me know if you would like to have an extra session in which we can discuss the exam."
   ]
  }
 ],
 "metadata": {
  "kernelspec": {
   "display_name": "Python 3",
   "language": "python",
   "name": "python3"
  },
  "language_info": {
   "codemirror_mode": {
    "name": "ipython",
    "version": 3
   },
   "file_extension": ".py",
   "mimetype": "text/x-python",
   "name": "python",
   "nbconvert_exporter": "python",
   "pygments_lexer": "ipython3",
   "version": "3.8.5"
  }
 },
 "nbformat": 4,
 "nbformat_minor": 4
}
