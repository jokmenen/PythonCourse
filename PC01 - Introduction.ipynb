{
 "cells": [
  {
   "cell_type": "markdown",
   "metadata": {},
   "source": [
    "# Chapter 1 - Introduction (-)"
   ]
  },
  {
   "cell_type": "markdown",
   "metadata": {},
   "source": [
    "-------------------------------"
   ]
  },
  {
   "cell_type": "markdown",
   "metadata": {},
   "source": [
    "### Welcome dear collegues!"
   ]
  },
  {
   "cell_type": "markdown",
   "metadata": {},
   "source": [
    "This course is for all collegues from the ANWB and partners who are eager to get an initial insight into the Python programming language. We start of by some introductionary words by Pieter Spronck, writer of the book [The Coder's Apprentice](https://www.spronck.net/pythonbook/pythonbook.pdf) on which this course is based. \n",
    "\n",
    "*Computers are wonderful machines. While most machines (cars, television sets, microwaves) have a specific purpose which they excel at accomplishing, computers are purposeless machines that can be taught to accomplish **anything**. The power to make a computer do your bidding is called \"programming\". Nowadays, in many professional endeavours, people have to deal with large volumes of data. Those who are able to leverage the power of computers to make use of such data, i.e., those who can program, are far better able to do their jobs than those who are not.*\n",
    "\n",
    "This course is meant to take you from 0 to beginning programmer in a 1 month timespan. After this course you will be able to read, understand and write python code. It will give you a good foundation to start your programming journey, whether you want to develop websites or automate parts of your work. Please be aware that getting proficient at programming takes many hours of practice and experience, so I recommend you to keep practicing even after the course is over!\n",
    "\n"
   ]
  },
  {
   "cell_type": "markdown",
   "metadata": {},
   "source": [
    "---"
   ]
  },
  {
   "cell_type": "markdown",
   "metadata": {},
   "source": [
    "## Course Outline"
   ]
  },
  {
   "cell_type": "markdown",
   "metadata": {},
   "source": [
    "Over the coming weeks, we will focus on getting an introduction to Python. The first two weeks we'll get you of the ground with Python, where we study some generic functions of the language: How does Python work? In the later part of the course I want to show you the more practical side of Python: What can you actually do with it? I want to show you how you can use python to do interesting stuff!\n",
    "\n",
    "As stated during the first week's slides, the * sections are optional, but highly recommended. Please feel free to skip these sections if you're low on time. However, some sections with an * are a fundamental part of Python, so if you can free up another hour, I highly recommend you do so!\n"
   ]
  },
  {
   "cell_type": "markdown",
   "metadata": {},
   "source": [
    "### Method of teaching"
   ]
  },
  {
   "cell_type": "markdown",
   "metadata": {},
   "source": [
    "During the coming weeks, we'll do weekly sessions where, in the live sessions, I'll show you some aspects of the language. After the live sessions, you can use the Jupyter notebooks (like this one) to practice programming in Python. Following each main session, an optional second session is held, where you can work on the notebooks, and ask questions if necessary.\n",
    "\n",
    "In these notebooks, you'll find explanations on how things work, with small exercises sprinkled throughout the text. These exercises are there to enlighten a point or for you to do a quick check if you understood the material up to that moment. You can enter your code directly in the notebook by clicking on the code-blocks. Answers to these exercises are seldom provided, because if you understood the material, they should be really easy to do, while if you did not understand the material, you should either re-read the notebook until you do, or ask an instructor for assistance. At the end of most chapters, a separate \"Exercises\" section is given, with one or more numbered exercises. You are supposed to do all of these exercises, and you should be able to do them independently as much as possibile.  "
   ]
  },
  {
   "cell_type": "markdown",
   "metadata": {},
   "source": [
    "---"
   ]
  },
  {
   "cell_type": "markdown",
   "metadata": {},
   "source": [
    "## Why Python?*"
   ]
  },
  {
   "cell_type": "markdown",
   "metadata": {},
   "source": [
    "### An explanation by Pieter Spronck *\n"
   ]
  },
  {
   "cell_type": "markdown",
   "metadata": {},
   "source": [
    "Python has become a language of choice for teaching people how to program. It is a powerful language, that is easy to use, and that offers all the possibilities that any other computer language offers. It is easily portable between different operating systems. It is freely available. For beginning programmers, it has the advantage that it enforces writing readable code. Python is also a language that is used for many practical applications, either as a basis for complete programs, or as an extension to programs written in a different language.\n",
    "\n",
    "The main advantage of using Python is that it allows you to focus on \"thinking like a programmer\", rather than learning all the arcane intricacies of a language. Here is an example of the difference between using Python, and using some other popular programming languages: The first program that anybody writes in any language, is <i>Hello World</i>. This is a program that displays the text \"Hello, world!\" on the screen. In the highly popular computer language C++, *Hello World* is coded as follows:\n",
    "\n",
    "    #include <iostream>\n",
    "    int main() {\n",
    "        std::cout << \"Hello, world!\";\n",
    "    }"
   ]
  },
  {
   "cell_type": "markdown",
   "metadata": {},
   "source": [
    "In C#, Microsoft's popular variant of C++, it is:\n",
    "\n",
    "    using System;\n",
    "    namespace HelloWorld {\n",
    "        class Hello {\n",
    "            static void Main() {\n",
    "                Console.WriteLine( \"Hello, world!\" );\n",
    "                Console.ReadKey();\n",
    "            }\n",
    "        }\n",
    "    }"
   ]
  },
  {
   "cell_type": "markdown",
   "metadata": {},
   "source": [
    "In Objective-C, Apple's C++ variation, the code becomes even worse:\n",
    "\n",
    "    #import <Foundation/Foundation.h>\n",
    "    int main ( int argc, const char * argv[] ) {\n",
    "        NSAutoreleasePool *pool = [[NSAutoreleasePool alloc] init];\n",
    "        NSLog (@\"Hello, world!\");\n",
    "        [pool drain];\n",
    "        return 0;\n",
    "    }"
   ]
  },
  {
   "cell_type": "markdown",
   "metadata": {},
   "source": [
    "In Java, which is taught as the first language to many computer science students, it is:\n",
    "\n",
    "    class Hello {\n",
    "        public static void main( String[] args ) {\n",
    "            System.out.println( \"Hello, world!\" );\n",
    "        }\n",
    "    }"
   ]
  },
  {
   "cell_type": "markdown",
   "metadata": {},
   "source": [
    "In the language of choice for administrative programmers, COBOL, which should be really easy to read and use, it is:\n",
    "\n",
    "    IDENTIFICATION DIVISION.\n",
    "    PROGRAM-ID. HELLO-WORLD.\n",
    "    PROCEDURE DIVISION.\n",
    "            DISPLAY 'Hello, world!'.\n",
    "            STOP RUN."
   ]
  },
  {
   "cell_type": "markdown",
   "metadata": {},
   "source": [
    "Now compare this to writing *Hello World* in Python:\n",
    "\n",
    "    print( \"Hello, world!\" )"
   ]
  },
  {
   "cell_type": "markdown",
   "metadata": {},
   "source": [
    "I think we can agree that the Python version of this program is much more readable and understandable -- even without knowing the language -- than any of the other languages."
   ]
  },
  {
   "cell_type": "markdown",
   "metadata": {},
   "source": [
    "---"
   ]
  },
  {
   "cell_type": "markdown",
   "metadata": {},
   "source": [
    "---"
   ]
  }
 ],
 "metadata": {
  "kernelspec": {
   "display_name": "Python 3",
   "language": "python",
   "name": "python3"
  },
  "language_info": {
   "codemirror_mode": {
    "name": "ipython",
    "version": 3
   },
   "file_extension": ".py",
   "mimetype": "text/x-python",
   "name": "python",
   "nbconvert_exporter": "python",
   "pygments_lexer": "ipython3",
   "version": "3.8.5"
  }
 },
 "nbformat": 4,
 "nbformat_minor": 1
}
