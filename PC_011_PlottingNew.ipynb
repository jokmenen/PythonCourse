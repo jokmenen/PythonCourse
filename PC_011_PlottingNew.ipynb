{
 "cells": [
  {
   "cell_type": "markdown",
   "metadata": {},
   "source": [
    "# Welcome to the final lecture: data visualization / Plotting\n",
    "\n",
    "Over the last few weeks, we've taken a real deep dive into the world of Python. Some chapters were probably harder than others, but if you made it this far, you can congratulate yourself on being persistent in your learnings! Chapeau! \n",
    "\n",
    "This lecture consists of two sections. Plotting and a section on how to continue; which we will mostly discuss during the public lecture. In this notebook, we start with plotting. Plotting is a common way to make data understandable, as one picture says more than a thousand words. Today's lecture will introduce you to plotting in python with Matplotlib, which is arguably the most popular graphing and data visualization library for Python. Matplotlib stands for Mathematical Plotting Library, suggesting that it a useful tool for plotting numbers, which it is! \n",
    "\n",
    "Besides Matplotlib, there are many other libraries available to plot your data. Among them are Seaborn (based on Matplotlib, but slightly more sleek and thus a tip if you want to present your data), geoplot (for plotting location data), and Bokeh (making web-ready graphs). We will not discuss these other libraries, but I hope you understand that there are many other options available to plot data. If you google on plotting python examples, you'll meet some other libraries which you can use. Do not limit yourself to matplotlib. It is good to stay loyal, but a little bit of cheating on your plotting library won't hurt anybody ;)\n",
    "\n",
    "In order to plot, we need to get our data in the right structure first. Hence, last week when we learned the ins and outs of pandas, we prepared data. This week, we will use some of the same data sources, prepare the data again (practice makes perfect), and then plot the data! \n",
    "\n",
    "However, as I said during the first lecture, these kinds of notebooks are very useful as they can be connected to dashboarding software, such as Tableau and PowerBI. So while possible to use Python for making graphics, you are free to do so in Tableau or PowerBI if you are already proficient with it. However, one big advantage of Python is that it is easy to automate the whole process of making plots. So if there is a plot that you have to make every week or month, and the data is always in the same format, definitively use Python!\n",
    "\n",
    "\n",
    "## 11.0 Telling a story with data is complicated\n",
    "\n",
    "It is true that in this chapter, we will briefly discuss some possibilities of plotting data. Truth be told, visualising data in a clear way that also inspires your audience to commit to action is often quite a challenge. Not only because the possibilities are endless from a technical perspective, but also because you have to think of a story to tell with your visualisation that reaches your audience. However, it will all be worth it after the actions committed because of your visualisation lead to a great solution. Moral of the story: Investing time in good Data Visualisation is difficult but worth it!\n",
    "\n",
    "In school, we learn a lot about language and math. On the language side, we learn how to put words together into sentences and stories. With math, we learn to make sense of numbers. But these two sides are rarely paired: **no one teaches us how to tell stories with numbers**. This leaves us poorly prepared for an important task that is increasingly in demand.\n",
    "\n",
    "Therefore, I argue that **success in data visualization does not start with data visualization**, which may seem counterintuitive. Rather, before you begin down the path of creating a data visualization or communication, attention and time should be paid to understanding the context for the need to communicate. Being able to visualize data and tell stories with it is key to turning it into information that can be used to drive better decision-making. Having the tools for making great visualisations of data, aids you in that process. So lets have a look at one of the Data Vis tools available in python!\n",
    "\n",
    "## 11.1 Importing libraries\n",
    "As with almost advanced function of Python, we first need to import our Data Vis library: matplotlib. We've done this before with pandas. I always import both libraries at the start of every document. You end up using them a lot. Importing matplotlib is a bit weird, since you have to specify you want to use `matplotlib.pyplot` (no one really knows why, just a matplotlib quirk). Like mentioned before, often used libraries are often shortened so you have to type less in the code. We do this using  `as plt ` (short for plot). Now, for matplotlib, people often do an `inline` argument when working in jupyter. This only works when we're working in Jupyter notebooks and prevents our plots from becoming too big for our screen, as it will render the plots 'inline'. Using this command once is best practice and advised by almost everybody on the world wide web. Hence, I'm doing the same.  Again, this was all in the documentation; simply copy-paste. I suggest you do the same (using this notebook as a source, or the official documentation)."
   ]
  },
  {
   "cell_type": "code",
   "execution_count": null,
   "metadata": {},
   "outputs": [],
   "source": [
    "import pandas as pd\n",
    "import numpy as np\n",
    "import matplotlib.pyplot as plt\n",
    "%matplotlib inline"
   ]
  },
  {
   "cell_type": "markdown",
   "metadata": {},
   "source": [
    "## 11.2 Making our first line plot\n",
    "Line graphs are used to track changes over short and long periods of time. Line graphs can also be used to compare changes over the same period of time for more than one group. We often see line charts to display our annual revenue and use second line to display last years revenue. They are usefull to quickly analyze our data for trends, peaks/spikes and valleys/downs. For example, when we would plot the revenue of our FOX and Reizen collegues, we would clearly see the Corona crisis as a downward trend. \n",
    "\n",
    "Let's see this in pracise with the number of ANWB members! We have little dataset containing the last 10 years of total members. We could go throught these numbers of the last 10 years pretty easy to validate if we had any spikes. However, what if our data set was 100 years long? Plotting would be very efficient in that case!"
   ]
  },
  {
   "cell_type": "code",
   "execution_count": null,
   "metadata": {},
   "outputs": [],
   "source": [
    "data = pd.read_csv('leden_per_jaar.csv', sep = ';')\n",
    "\n",
    "data"
   ]
  },
  {
   "cell_type": "markdown",
   "metadata": {},
   "source": [
    "Now that we have our data, we can start plotting. In our case, we want to work with a line plot. In matplotlib, we can make our plot as follows: `plt.plot(x-axis, y-axis)`. Additionally, we can give our plot additional parameters, such as the line style and colors, but more on that later. \n",
    "\n",
    "\n",
    "As an x-axis, we feed our plot a column from our dataframe. As with pandas, we can select a single column from a dataframe using `data['column_name']`. In the code section below, we feed our plot two columns, and you'll see that it perfectly makes your plot, just like the one above! "
   ]
  },
  {
   "cell_type": "code",
   "execution_count": null,
   "metadata": {},
   "outputs": [],
   "source": [
    "plt.plot(data['Jaar'], data['Leden'])"
   ]
  },
  {
   "cell_type": "markdown",
   "metadata": {},
   "source": [
    "That looks pretty usefull! We can clearly see the impact of the current situation on the number of members (please be aware, this is fake/dummy data). However, let's give our data some more parameters. For example, we can use the parameter `color = ....` to change our line color, `linestyle = '.....'` to change the line, add markers and many more options. All options are available here https://matplotlib.org/2.1.2/api/_as_gen/matplotlib.pyplot.plot.html. \n",
    "\n",
    "In the example below, i've added some common parameters. Hopefully you can use some of them!\n",
    "\n",
    "With just a single line of code, we've visualized our data! Now, if we change our data (because next years figures are available), all we need to do is upload the new data as a Dataframe in *data* . Just this one line of code will then again spit out a plot in which we can see how the latest data affects our results."
   ]
  },
  {
   "cell_type": "code",
   "execution_count": null,
   "metadata": {},
   "outputs": [],
   "source": [
    "plt.plot(data['Jaar'], data['Leden'], color='green', linestyle='dashed', marker='.', markerfacecolor='blue', markersize=12)"
   ]
  },
  {
   "cell_type": "markdown",
   "metadata": {},
   "source": [
    "But we aren't done yet! We still don't know what this data tells us. To add titles and labels to the axis, we simply inform `plt.` what we want as title before rendering the figure. Be aware that you should add these titles in the **same code block**, otherwise matplotlib will not understand where to add the titles to. There is still a lot more that we can change using the `plt.` statement, but lets not go too deep. More detail are available on the Matplotlib website. Personally, I always do a quick google search on what I want, since there are so many options. Somehow, google always has the answer within 30 seconds; so there is no need to study everything and learn everything by heart. Forget how to add a title? Google: Matplotlib add title. first 5 options all give the correct answer. Haven't checked any further. \n",
    "\n",
    "Hopefully this plot with titles makes more sense. Feel free to play around with it! Can you give the plot ANWB colors?"
   ]
  },
  {
   "cell_type": "code",
   "execution_count": null,
   "metadata": {},
   "outputs": [],
   "source": [
    "# Same line of code as above\n",
    "plt.plot(data['Jaar'], data['Leden'], color='red', linestyle='dashed', marker='.', markerfacecolor='yellow', markersize=12)\n",
    "\n",
    "# but now lets add some additional titles. Make sure they are in the same codeblock.\n",
    "plt.title('Leden per jaar')\n",
    "plt.ylabel('Aantal leden in miljoenen')\n",
    "plt.xlabel('Jaar')\n"
   ]
  },
  {
   "cell_type": "markdown",
   "metadata": {},
   "source": [
    "Good, know that we know how to do a line plot, lets see how this differs from making a scatterplot. A scatterplot uses dots to represent values for two different numeric variables. The position of each dot on the horizontal and vertical axis indicates values for an individual data point. Scatter plots are used to observe relationships between variables. We will use the car data from the USA again: let's import `USA_cars_datasets.csv` in pandas and only select the price and mileage. Using these, we hope to display some sort of relation between the mileage and the price. "
   ]
  },
  {
   "cell_type": "code",
   "execution_count": null,
   "metadata": {},
   "outputs": [],
   "source": [
    "cars = pd.read_csv('USA_cars_datasets.csv')\n",
    "cars = cars[['price','mileage']]\n",
    "cars.head()"
   ]
  },
  {
   "cell_type": "markdown",
   "metadata": {},
   "source": [
    "Let's see what happens if we plot the price and mileage, as a scatter/dot plot. In this case, we hope to see a relation between mileage and price.\n",
    "\n",
    "Plotting a scatter plot is easy and very similair to the line plot. We can create a simple scatter by `plt.scatter(x-axis, y-axis)`. Obviously, this works best if we're working with numbers. The data inputs can be of various sources. In the example below, we use the pandas select using the squared brackets to directly input a column, but we can also add a list with numbers there, or another variable with data.\n",
    "\n",
    "Just as with the line plot,  we can select a single column from a dataframe using `data['column_name']`. "
   ]
  },
  {
   "cell_type": "code",
   "execution_count": null,
   "metadata": {},
   "outputs": [],
   "source": [
    "plt.scatter(cars['mileage'], cars['price'])"
   ]
  },
  {
   "cell_type": "markdown",
   "metadata": {},
   "source": [
    "Hmmm, this plot probably isn't the most useful. However, we can clearly that there is a correlation of some sorts. On the Y axis, we see that some cars have extremely high mileage. However, all cars with high mileage are also on the left side of the X axis, and thus are cheaper. This relation makes sense. Cars with high mileage are worth less, and the most expensive cars in the data set are on the low end of th mileage. \n",
    "\n",
    "However, let's see if we can tidy this plot a little bit. This all comes down to personal preferences and visibility. The options are endless! Using the code below, changed the size of the markers, and changed the symbol that represents each marker. Following a google search on 'matplotlib markers', I found this list: https://matplotlib.org/3.2.1/api/markers_api.html giving us cool alternatives."
   ]
  },
  {
   "cell_type": "code",
   "execution_count": null,
   "metadata": {},
   "outputs": [],
   "source": [
    "plt.scatter(cars['mileage'], cars['price'],  \n",
    "            marker= \"*\", s=50) "
   ]
  },
  {
   "cell_type": "markdown",
   "metadata": {},
   "source": [
    "In the basis, this is how we make a scatter plot! Pretty easy ofnie! Just as with the line plot, we need two columns from our dataframe and feed this to our plt commands. Again, the options are endless and there is no way that we can go full in depth into this, during this course! \n",
    "\n",
    "Also, use this to your advantage, but please don't forget that we can plot in many other tools! The previously mentioned dashboarding tools are there for a reason, and are a very efficient way of spreading the story you're telling with the data!\n",
    "\n"
   ]
  },
  {
   "cell_type": "markdown",
   "metadata": {},
   "source": [
    "## 11.3 Saving our plots\n",
    "\n",
    "Ofcourse, it would be nice if we could share our image in a mail or powerpoint. To get a good quality image, we can choose to save the plot that we made to the disk. This is quite easy:"
   ]
  },
  {
   "cell_type": "code",
   "execution_count": null,
   "metadata": {},
   "outputs": [],
   "source": [
    "plt.scatter(cars['mileage'], cars['price'],  \n",
    "            marker= \"*\", s=50)\n",
    "plt.savefig('MyPlot.png')\n"
   ]
  },
  {
   "cell_type": "markdown",
   "metadata": {},
   "source": [
    "The image can be found in the 'main menu' of the jupyter server (or in the folder where you ran your notebook when running on your own pc). "
   ]
  },
  {
   "cell_type": "markdown",
   "metadata": {},
   "source": [
    "## 11.4 Making our data pretty, bigger and adding a regression line to our scatterplot * \n",
    "\n",
    "Hmmm, maybe this still isn't very attractive to look at. Let's see if we can change the size, the color and add some titles. Besides 'calling the plot' using plt.scatter, we can also change some variables of our plot specific for the figure it renders. We do this by adding `plt.figure` to our notebook. Here we can change the size for example using `plt.figure(figsize(x,y))`.\n",
    "\n",
    "To add titles and labels to the axis, we simply inform `plt.` what we want as title before rendering the figure. There is still a lot more that we can change using the `plt.` statement, but lets not go too deep. More detail are available on the Matplotlib website. \n",
    "\n",
    "For example, I wasn't too happy about how pyplot set our car pricing. Apparently, there is a way to change the axes with a limit. The little numbers on the axis are called Ticks, and we can change them manually. However, we won't do that today and only rotate them slighlty. Feel free to play around with the color, markers and size (s). "
   ]
  },
  {
   "cell_type": "code",
   "execution_count": null,
   "metadata": {},
   "outputs": [],
   "source": [
    "# changing the figure output size\n",
    "plt.figure(figsize=(20,15))\n",
    "\n",
    "# default plot command for a scatter plot with some additional parameters\n",
    "plt.scatter(cars['mileage'], cars['price'], label= \"cars\", color= \"darkblue\",  \n",
    "            marker= \"*\", s=25) \n",
    "\n",
    "# Adding titles and labels\n",
    "plt.title('Mijn spannende scatterplot met sterretjes!')\n",
    "plt.ylabel('Price in $')\n",
    "plt.xlabel('Mileage')\n",
    "\n",
    "\n",
    "# changing the ticks\n",
    "plt.xticks(rotation=45)"
   ]
  },
  {
   "cell_type": "markdown",
   "metadata": {},
   "source": [
    "### Adding the regression line\n",
    "To show us the actual relationship between the two variables, a regressionline can help. To do so, we need numpy to do some of the math for us. Numpy has a build-in function to add a polyfit line to our data. The code block below includes everything we need for our new graph, but is based on the exact same information as above.\n"
   ]
  },
  {
   "cell_type": "code",
   "execution_count": null,
   "metadata": {},
   "outputs": [],
   "source": [
    "from numpy.polynomial.polynomial import polyfit\n",
    "\n",
    "b, m = polyfit(cars['mileage'], cars['price'], 1)\n",
    "\n",
    "\n",
    "plt.title('Mijn spannende scatterplot met sterretjes en regression!')\n",
    "plt.xlabel('Price in $')\n",
    "plt.ylabel('Mileage')\n",
    "\n",
    "plt.xticks(rotation=45)\n",
    "\n",
    "\n",
    "plt.plot(cars['mileage'], cars['price'], '.')\n",
    "plt.plot(cars['mileage'], b + m * cars['mileage'], '-')\n",
    "plt.ylim([0,100000])"
   ]
  },
  {
   "cell_type": "markdown",
   "metadata": {},
   "source": [
    "## 11.5 Barplot\n",
    "The final plot that is commonly seen is the bar plot. Again, the options here are endless but in the beginning, we make one using a very similair command to the line and scatter plot. This time, our line of code is as follows: `plt.barh(x-axis, y-axis)`. Just like in the other examples, we can change a lot of parameters by adding them into that line of code. The following code line contains just the basic barplot. \n",
    "\n",
    "I hope you see that we just changing the plt.barh() to plt.scatter() or plt.plot() we can quickly change our type of plot. The way we insert data in the plot is the same; some parameters differ though."
   ]
  },
  {
   "cell_type": "code",
   "execution_count": null,
   "metadata": {},
   "outputs": [],
   "source": [
    "plt.barh(data['Jaar'], data['Leden'])"
   ]
  },
  {
   "cell_type": "markdown",
   "metadata": {},
   "source": [
    "## 11.7 Thank you and how to continue\n",
    "\n",
    "***Claps in hands!*** Congratulations on making it to the end of the final lecture. Over the past few weeks, you've gained a proper understanding of Python and are probably able to do some small tasks yourself in Python. Don't forget that everyday is a possibility to learn something new, and although youve done reaally great, never stop amazing yourself! Keep exploring the ways in which you can use Python to make your job/life easier and more fun! \n",
    "\n",
    "If you thought this course was interesting, and you want to learn more about what python has to offer, I reccommend checking out freecodecamp.org. They have many free courses on how to use Python for data analysis, web development, app development, and many more, \n",
    "\n",
    "Now, this Jupyter server we've been using won't stay online for ever as Amazon is currently emptying my ANWB Credit Card. Therefore, I suggest you download the notebooks and store them locally. You can then run them in Anaconda Navigator --> Jupyter notebooks. This works the same as this webserver, but uses your local machine power and not that of a microsoft server. If you need help setting this up, let me know! \n",
    "\n",
    "Don't forget that if your running Anaconda, you need to install libraries in Anaconda too. This is easy and straight forward, but often forgotten. \n",
    "\n",
    "\n",
    "Thanks! "
   ]
  },
  {
   "cell_type": "markdown",
   "metadata": {},
   "source": [
    "## Excersise 1\n",
    "Can you open the iris.txt dataset and make a scatter plot of red T's showing us the relation between the Sepal length and Petal length? Don't forget to add a title."
   ]
  },
  {
   "cell_type": "code",
   "execution_count": null,
   "metadata": {},
   "outputs": [],
   "source": []
  },
  {
   "cell_type": "markdown",
   "metadata": {},
   "source": [
    "## Exercise 2\n",
    "Imagine you are a data analyst for a shoe shop, and your boss sent you 3 data files containing the sales data for 3 different years. He wants you to make some plots for in a presentation that is going to be shown later. Since the data is in exactly the same format for each of the data files, and you are a very lazy data analyst, you want to automate this process. Create a function that makes a graph for one of the data files and saves it. Customize the graph how you want in the function and then use a loop to apply the function to all the data files. Note that the files are ; seperated, so use that while reading in the data!"
   ]
  },
  {
   "cell_type": "code",
   "execution_count": null,
   "metadata": {},
   "outputs": [],
   "source": [
    "import pandas as pd\n",
    "import matplotlib.pyplot as plt\n",
    "\n",
    "data_files = ['sales_data_2019.csv', 'sales_data_2020.csv', 'sales_data_2021.csv']\n",
    "\n",
    "def create_graph(filename):\n",
    "    plt.figure() # To clear the graph. Try removing this line to see what happens after you run the function in a loop.\n",
    "    # Read the Data,\n",
    "    # Create the plot\n",
    "    # save the plot\n",
    "    \n",
    "# Create a loop to run create_graph() for all data_files"
   ]
  },
  {
   "cell_type": "markdown",
   "metadata": {},
   "source": [
    "## Excersise 3 \n",
    "Can you create a useful plot based on the car sales data? Potentially after some data manipulation using pandas. Don't be afraid to show a story with your plot! :)\n"
   ]
  },
  {
   "cell_type": "code",
   "execution_count": null,
   "metadata": {},
   "outputs": [],
   "source": []
  },
  {
   "cell_type": "markdown",
   "metadata": {},
   "source": [
    "## Excersise 4 *\n",
    "\n",
    "Download Anaconda studio, install the most popular libraries and run Jupyter Notebook. Find yourself a analytic job (or excel-klus) that you have worked on recently and try to do this using pandas in your local Jupyter! "
   ]
  },
  {
   "cell_type": "code",
   "execution_count": null,
   "metadata": {},
   "outputs": [],
   "source": []
  },
  {
   "cell_type": "markdown",
   "metadata": {},
   "source": [
    " "
   ]
  },
  {
   "cell_type": "markdown",
   "metadata": {},
   "source": [
    "## THANK YOU!\n",
    "I would like to thank you for your time and continuous effort! I know it was a lot of information for 4 weeks, and it could be challenging at some points. However, if you've come this far, there is nothing that can stop you on your Python journey!. I hope I showed you that Python can do awesome stuff. \n",
    "\n",
    "# Now go and download Python! Automate your work! Have Fun!"
   ]
  }
 ],
 "metadata": {
  "kernelspec": {
   "display_name": "Python 3",
   "language": "python",
   "name": "python3"
  },
  "language_info": {
   "codemirror_mode": {
    "name": "ipython",
    "version": 3
   },
   "file_extension": ".py",
   "mimetype": "text/x-python",
   "name": "python",
   "nbconvert_exporter": "python",
   "pygments_lexer": "ipython3",
   "version": "3.8.5"
  }
 },
 "nbformat": 4,
 "nbformat_minor": 4
}
